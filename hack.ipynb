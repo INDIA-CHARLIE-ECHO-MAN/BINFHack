{
 "cells": [
  {
   "cell_type": "code",
   "execution_count": 1,
   "metadata": {},
   "outputs": [],
   "source": [
    "import sys\n",
    "import numpy as np\n",
    "import pandas as pd\n",
    "import matplotlib.pyplot as plt\n",
    "\n",
    "plt.rc('font', size=14)\n",
    "plt.rc('axes', labelsize=14, titlesize=14)\n",
    "plt.rc('legend', fontsize=14)\n",
    "plt.rc('xtick', labelsize=10)\n",
    "plt.rc('ytick', labelsize=10)"
   ]
  },
  {
   "cell_type": "code",
   "execution_count": 4,
   "metadata": {},
   "outputs": [
    {
     "ename": "LibrdataError",
     "evalue": "The file contains an unrecognized object",
     "output_type": "error",
     "traceback": [
      "\u001b[0;31m---------------------------------------------------------------------------\u001b[0m",
      "\u001b[0;31mLibrdataError\u001b[0m                             Traceback (most recent call last)",
      "\u001b[1;32m/Users/ahnaf/code/a/BINFHack/hack.ipynb Cell 2\u001b[0m line \u001b[0;36m2\n\u001b[1;32m      <a href='vscode-notebook-cell:/Users/ahnaf/code/a/BINFHack/hack.ipynb#W1sZmlsZQ%3D%3D?line=0'>1</a>\u001b[0m \u001b[39mimport\u001b[39;00m \u001b[39mpyreadr\u001b[39;00m\n\u001b[0;32m----> <a href='vscode-notebook-cell:/Users/ahnaf/code/a/BINFHack/hack.ipynb#W1sZmlsZQ%3D%3D?line=1'>2</a>\u001b[0m result \u001b[39m=\u001b[39m pyreadr\u001b[39m.\u001b[39;49mread_r(\u001b[39m'\u001b[39;49m\u001b[39m./data/kerenSCE.rda\u001b[39;49m\u001b[39m'\u001b[39;49m)\n",
      "File \u001b[0;32m~/miniconda3/envs/homl3/lib/python3.10/site-packages/pyreadr/pyreadr.py:66\u001b[0m, in \u001b[0;36mread_r\u001b[0;34m(path, use_objects, timezone)\u001b[0m\n\u001b[1;32m     64\u001b[0m \u001b[39mif\u001b[39;00m \u001b[39mnot\u001b[39;00m os\u001b[39m.\u001b[39mpath\u001b[39m.\u001b[39misfile(filename_bytes):\n\u001b[1;32m     65\u001b[0m     \u001b[39mraise\u001b[39;00m PyreadrError(\u001b[39m\"\u001b[39m\u001b[39mFile \u001b[39m\u001b[39m{0}\u001b[39;00m\u001b[39m does not exist!\u001b[39m\u001b[39m\"\u001b[39m\u001b[39m.\u001b[39mformat(filename_bytes))\n\u001b[0;32m---> 66\u001b[0m parser\u001b[39m.\u001b[39;49mparse(filename_bytes)\n\u001b[1;32m     68\u001b[0m result \u001b[39m=\u001b[39m OrderedDict()\n\u001b[1;32m     69\u001b[0m \u001b[39mfor\u001b[39;00m table_index, table \u001b[39min\u001b[39;00m \u001b[39menumerate\u001b[39m(parser\u001b[39m.\u001b[39mtable_data):\n",
      "File \u001b[0;32m~/miniconda3/envs/homl3/lib/python3.10/site-packages/pyreadr/librdata.pyx:149\u001b[0m, in \u001b[0;36mpyreadr.librdata.Parser.parse\u001b[0;34m()\u001b[0m\n",
      "File \u001b[0;32m~/miniconda3/envs/homl3/lib/python3.10/site-packages/pyreadr/librdata.pyx:178\u001b[0m, in \u001b[0;36mpyreadr.librdata.Parser.parse\u001b[0;34m()\u001b[0m\n",
      "\u001b[0;31mLibrdataError\u001b[0m: The file contains an unrecognized object"
     ]
    }
   ],
   "source": [
    "pd.read_csv"
   ]
  },
  {
   "cell_type": "code",
   "execution_count": null,
   "metadata": {},
   "outputs": [],
   "source": []
  }
 ],
 "metadata": {
  "kernelspec": {
   "display_name": "homl3",
   "language": "python",
   "name": "python3"
  },
  "language_info": {
   "codemirror_mode": {
    "name": "ipython",
    "version": 3
   },
   "file_extension": ".py",
   "mimetype": "text/x-python",
   "name": "python",
   "nbconvert_exporter": "python",
   "pygments_lexer": "ipython3",
   "version": "3.10.12"
  },
  "orig_nbformat": 4
 },
 "nbformat": 4,
 "nbformat_minor": 2
}
